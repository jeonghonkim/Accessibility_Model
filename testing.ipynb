import EV_DB_Crud

import sys
import datetime as dt
from collections import defaultdict

from arcgis.geometry import Point, Polyline, Geometry
from arcgis.geometry.filters import intersects
from arcgis.features import FeatureSet, use_proximity
import arcgis.network as network
import EV_DB_Utils

def main():
    config = EV_DB_Utils.getConfigs()

    # log into portal
    gisAuth = EV_DB_Crud.authenticateWithPortal()
    gis = gisAuth['gis']

    # 1. import feature set
    ##site_id = config["evSitesFeatureLayerId"]
    whereClause = "guid = '42baee81-ad62-40ce-8704-4cb196accad8'"
    site_fset, buffer_fset_half, buffer_fset_one, parcel_fset, stlight_fset, facility_fset, incident_fset, majRoadInt_fset, intersect_fset, st_fset = import_fset(whereClause, gis, config)

    # 2. run closest facility
    facility_fset, incident_fset = assign_ids_to_incidents(facility_fset, incident_fset)
    routes_fset, direction_fset = run_closest_facility(facility_fset, incident_fset)

    # 3. filter routes
    routes_fset = fill_route_ids_from_incidents(routes_fset, incident_fset)
    routes_filtered_fset = filter_routes_matching_facility_ids(routes_fset)

    # 4. calculate accessibility score and update site access
    routes_filtered_fset = find_closest_traffic_decay_and_speed(routes_filtered_fset, stlight_fset)
    site_fset = calculate_scores_in_site_fset(site_fset, routes_filtered_fset)
    site_fset = update_site_access(site_fset, intersect_fset)

    # 5. update road type and speed limit field
    st_fset = update_speed_limits(st_fset)
    site_fset = update_road_type_speed_limit_field(site_fset, st_fset)

    # 6. update fields and print results
    site_layer = gis.content.get(config["evSitesFeatureLayerId"]).layers[0]
    result = update_fields_in_layer(site_fset, site_layer)
    print(result)

def polygon_to_polyline(polygon_fset):
    try:
        # create a list for polylines
        polyline_features = []
        
        # convert polygons to polylines
        for g in polygon_fset.features:
            g_geom = g.geometry
            g_polyline = Polyline({
                "paths": g_geom['rings'],
                "spatialReference": g_geom['spatialReference']})
            polyline_features.append({
                "geometry": g_polyline,
                "attributes": g.attributes})
        
        # convert list to featureset
        polyline_fset = FeatureSet(polyline_features)

        return polyline_fset

    except Exception as ex:
       print(f"Error during polygon to polyline - {ex}")

def create_points_intersecting_polylines(line_fset1, line_fset2, f_fields=None, s_fields=None):
    try:
       # Set spatial reference
       sr = {"wkid": 4326}

       # Create empty list for point features
       point_features = []

       # Iterate through the features of both polyline feature sets
       for f in line_fset1.features:
           f_line = Polyline(f.geometry)
           
           for s in line_fset2.features:
               s_line = Polyline(s.geometry)
               # Find intersection points between the two polylines
               point_f = f_line.intersect(s_line)

               if point_f is None:
                   pass
               else:
                   # Extract the x and y coordinates from the intersection point
                   point_x = point_f['points'][0][0]
                   point_y = point_f['points'][0][1]
                   # Create the point geometry
                   point_geom = Point({"x": point_x, "y": point_y, "spatialReference": sr})
                   
                   # Select only the fields specified in f_fields and s_fields
                   selected_f_attributes = {field: f.attributes[field] for field in f_fields if field in f.attributes}
                   selected_s_attributes = {field: s.attributes[field] for field in s_fields if field in s.attributes}
                   # Combine the selected attributes from f and s
                   combined_attributes = {**selected_f_attributes, **selected_s_attributes}
                   
                   # Create the point feature
                   point_feature = {"geometry": point_geom, "attributes": combined_attributes}
                   # Append the point feature to the list
                   point_features.append(point_feature)
       
       # Create the FeatureSet from the list of point features
       point_fset = FeatureSet(point_features)
       
       return point_fset
   
    except Exception as ex:
       print(f"Error during creating points intersecting polylines - {ex}")

def select_fields_from_fset(original_fset, selected_fields):
    try:
        # create an empty list to store filtered features
        filtered_features = []

        # Iterate over each feature in the original FeatureSet
        for f in original_fset.features:
            # Select only the attributes from the selected fields
            filtered_attributes = {field: f.attributes[field] for field in selected_fields if field in f.attributes}
            
            # Create a new feature with the selected attributes and the original geometry
            filtered_feature = {
                "geometry": f.geometry,
                "attributes": filtered_attributes}

            # Append the filtered feature to the list
            filtered_features.append(filtered_feature)
        
        # Create a new FeatureSet with the filtered features
        filtered_fset = FeatureSet(filtered_features)

        return filtered_fset

    except Exception as ex:
        print(f"Error during selecting fields from feature set - {ex}")

def import_fset(whereClause, gis, config):
    try: 
        # set spatial reference
        sr = {"wkid": 4326}

        # import layers
        site_lyr = gis.content.get(config["evSitesFeatureLayerId"]).layers[0]
        parcel_lyr = gis.content.get(config["masterParcelsFeatureLayerId"]).layers[0]
        stlight_lyr = gis.content.get(config["streetlight"]).layers[0]
        majRoadInt_lyr = gis.content.get(config["majorRoads"]).layers[0]
        intersect_lyr = gis.content.get(config["intersect"]).layers[0] #
        st_lyr = gis.content.get(config["st"]).layers[0]

        # convert to feature set
        site_fset = site_lyr.query(where=whereClause, out_sr=sr)

        if len(site_fset.features) == 0:
            raise("0 features satisfying query - Check where clause")

        else:
            # create buffer
            site_dict = site_fset.to_dict()
            buffer_fset_half = use_proximity.create_buffers(input_layer=site_dict, distances=[0.5], units='Miles').query()
            buffer_fset_one = use_proximity.create_buffers(input_layer=site_dict, distances=[1], units='Miles').query()
            # convert buffer to polyline
            bufferLine_fset_half = polygon_to_polyline(buffer_fset_half)

            # create empty list for parcel, street light, and major road
            parcel_feautres = []
            stlight_feautres = []
            majRoadInt_features = []
            intersect_features = []
            st_features = []

            # filter parcel layer with site feature
            for s in site_fset.features:
                s_geom = s.geometry
                s_sr = s_geom['spatialReference']
                s_intersect = intersects(s_geom, sr=s_sr)

                # apply geometry filter
                parcel_fset = parcel_lyr.query(geometry_filter=s_intersect, where="1=1", out_sr=sr)
                for parcel_f in parcel_fset:
                    parcel_feautres.append(parcel_f) # append features

            # filter street light layer with half mile buffers
            for b in buffer_fset_half.features:
                b_geom = b.geometry
                b_sr = b_geom['spatialReference']
                b_intersect = intersects(b_geom, sr=b_sr)

                # apply geometry filter
                stlight_fset = stlight_lyr.query(geometry_filter=b_intersect, where="1=1", out_sr=sr)
                st_fields= ["objectid", "streetname", "hierarchy", "from_ref_speed_limit", "to_ref_speed_limit", "SHAPE__Length", "SHAPE"]
                st_fset = st_lyr.query(geometry_filter=b_intersect, where="1=1", out_sr = sr)
                for stlight_f in stlight_fset:
                    stlight_feautres.append(stlight_f) # append features

                for st_f in st_fset:
                    st_features.append(st_f) # append features

            # filter major road intersections with one mile buffer
            for f in buffer_fset_one.features:
                f_geom = f.geometry
                f_sr = f_geom['spatialReference']
                f_intersect = intersects(f_geom, sr=f_sr)

                # apply geometry
                majRoadInt_fset = majRoadInt_lyr.query(geometry_filter=f_intersect, where="1=1", out_sr=sr)
                for majRoadInt_f in majRoadInt_fset:
                    majRoadInt_features.append(majRoadInt_f) # append features
            
            # filter intersect layer with one mile buffers
            for b in buffer_fset_one.features:
                b_geom = b.geometry
                b_sr = b_geom['spatialReference']
                b_intersect = intersects(b_geom, sr=b_sr)

                # apply geometry filter
                intersect_fset = intersect_lyr.query(geometry_filter=b_intersect, where="1=1", out_sr=sr)
                for i in intersect_fset:
                    intersect_features.append(i) # append features

            # convert list to feature set
            parcel_fset = FeatureSet(parcel_feautres) 
            stlight_fset = FeatureSet(stlight_feautres) 
            majRoadInt_fset = FeatureSet(majRoadInt_features)
            intersect_fset = FeatureSet(intersect_features)
            st_fset = FeatureSet(st_features)

            # generate facility and incident feature set
            facility_fset = select_fields_from_fset(site_fset, ['objectid', 'guid'])
            bufferLine_fields = ['guid', 'company_name', 'address']
            stlight_fields = ['segment_nm', 'segment_id', 'highway', 'd3w_3h_10', 'power_train_ev', 'power_train_hv']
            incident_fset = create_points_intersecting_polylines(bufferLine_fset_half, stlight_fset, bufferLine_fields, stlight_fields)

            return site_fset, buffer_fset_half, buffer_fset_one, parcel_fset, stlight_fset, facility_fset, incident_fset, majRoadInt_fset, intersect_fset, st_fset

    except Exception as ex:
       print(f"Error during importing feature set - {ex}")

    except Exception as ex:
       tb = sys.exc_info()[2]
       print("Error during importing feature set - {ex} %i" % tb.tb_lineno)

def assign_ids_to_incidents(facility_fset, incident_fset):
    try:
        # Create a lookup dictionary that maps 'guid' in facility_fset to its 'objectid'
        facility_guid_lookup = {f.attributes['guid']: f.attributes['objectid'] for f in facility_fset.features}

        for i in incident_fset.features:
            # Assign IncidentID based on 'objectid'
            i.attributes['IncidentID'] = i.attributes['OBJECTID'] 
            # Get the incident's guid
            i_guid = i.attributes['guid']
            # Assign the matching facility OBJECTID using the lookup dictionary
            i.attributes['FacilityID'] = facility_guid_lookup.get(i_guid, None) # None if no match found
            
        return facility_fset, incident_fset
    
    except Exception as ex:
        print(f"Error during assigning ids to incidents - {ex}")

def run_closest_facility(facility_fset, incident_fset):
    # Main function to run the closest facility analysis
    try:
        # Check whether inputs exist
        if len(facility_fset.features) == 0:
            print(f"Run closest facility failed - Facility has 0 feature.")
        
        elif len(incident_fset.features) == 0:
            print(f"Run closest facility failed - Incident has 0 feature.")

        else:       
            # Set the current time and convert the feature sets to dictionaries
            current_time = dt.datetime.now()
            facility_dict = facility_fset.to_dict()
            incident_dict = incident_fset.to_dict()
        
            # Run the closest facility solver with the assigned FacilityID and IncidentID
            outputs = network.analysis.find_closest_facilities(
                facilities = facility_dict,
                incidents = incident_dict,
                travel_mode = "Driving Distance",
                measurement_units= "Feet",
                number_of_facilities_to_find = 1,
                travel_direction = "Incident to Facility",
                time_of_day = current_time,
                time_of_day_usage = 'Start Time',
                route_shape = None,
                populate_directions = True,
                directions_distance_units = "Feet",
                directions_style_name = "NA Navigation")
            result = outputs[2]

            if result == True:
                # Take the route and direction feature sets
                routes_fset = outputs[0]
                direction_fset = outputs[1]
            
            return routes_fset, direction_fset

    except Exception as ex:
        print(f"Error during running closest facility - {ex}")

def fill_route_ids_from_incidents(routes_fset, incident_fset):
    try: 
        # Create a lookup dictionary that maps 'IncidentObjectID' to 'FacilityID' and 'IncidentID' in incident_fset
        incident_lookup = {i.attributes['OBJECTID']:
                        {'FacilityID': i.attributes['FacilityID'], 'IncidentID': i.attributes['IncidentID']}
                        for i in incident_fset.features}
        
        # Iterate through the routes and update the FacilityID and IncidentID using the lookup dictionary
        for r in routes_fset.features:
            # Get the IncidentObjectID from the route
            incident_oid = r.attributes['IncidentOID']

            # Find the corresponding FacilityID and IncidentID from the lookup dictionary
            if incident_oid in incident_lookup:
                r.attributes['FacilityID'] = incident_lookup[incident_oid]['FacilityID']
                r.attributes['IncidentID'] = incident_lookup[incident_oid]['IncidentID']
        
        return routes_fset

    except Exception as ex:
           print(f"Error during fillomg route ids from incidents - {ex}")

def filter_routes_matching_facility_ids(routes_fset):
    try:
        # Create a list to hold the filtered routes
        filtered_routes = []

        # Iterate through the routes and check if FacilityID matches OutputFacilityOID
        for r in routes_fset.features:
            facility_id = r.attributes.get('FacilityID')
            facility_oid = r.attributes.get('FacilityOID')
            
            # Check if FacilityID matches OutputFacilityOID
            if facility_id == facility_oid:
                filtered_routes.append(r)

        return FeatureSet(filtered_routes)
    
    except Exception as ex:
           print(f"Error during filtering routes matching facility ids - {ex}")

def find_closest_traffic_decay_and_speed(routes_filtered_fset, stlight_fset):
    try: 
        for r in routes_filtered_fset:
            # Get the geometry of the route and initialize variables to store the closest traffic feature and the minimum distance
            r_geom = r.geometry
            closest_traffic_value = None
            closest_avg_speed_value = None
            min_distance = float('inf') 
            
            # Iterate through each traffic feature (stlight_fset)
            for t in stlight_fset.features:
                # Calculate the distance between the route and the traffic feature
                t_geom = t.geometry
                distance = Geometry(r_geom).distance_to(Geometry(t_geom))
                
                # Check if this traffic feature is the closest one and get the traffic value
                if distance < min_distance:
                    min_distance = distance
                    closest_traffic_value = t.attributes.get('d3w_3h_10') #traffic_field
                    closest_avg_speed_value = t.attributes.get('avg_speed') # speed_field
            
            # Add the closest traffiv value to the route's attributes
            r.attributes['ClosestTraffic'] = closest_traffic_value
            r.attributes['ClosestAvgSpeed'] = closest_avg_speed_value

            # Calculate Traffic_Decay
            closest_traffic = r.attributes.get('ClosestTraffic')
            travel_time = r.attributes.get('Total_Minutes')
            # Ensure the values are not divided by zero
            if closest_traffic is not None and travel_time != 0:
                r.attributes['Traffic_Decay'] = closest_traffic / travel_time
            else:
                r.attributes['Traffic_Decay'] = 0
        
        # Return the updated route feature set
        return routes_filtered_fset

    except Exception as ex:
        print(f"Error during finding closest traffics and speed - {ex}")

def calculate_scores_in_site_fset(site_fset, routes_filtered_fset):
    try:
        # Create a dictionary to accumulate traffic decay values and counts
        traffic_decay_sum = defaultdict(float)
        journey_distance_feet_sum = defaultdict(float)
        journey_time_sum = defaultdict(float)
        trip_speed_sum = defaultdict(float)
        facility_count = defaultdict(int)

        # Iterate through each route and accumulate values by FacilityID
        for r in routes_filtered_fset.features:
            facility_id = r.attributes.get('FacilityID')
            traffic_decay = r.attributes.get('Traffic_Decay')
            #journey_distance_mile = r.attributes.get('Total_Miles')
            journey_distance_feet = r.attributes.get('Total_Feet')
            journey_time = r.attributes.get('Total_Minutes')
            trip_speed = r.attributes.get('ClosestAvgSpeed')
            
            # Ensure the values are not divided by zero
            if (facility_id and traffic_decay and journey_distance_feet and journey_time and trip_speed is not None) and (facility_id and traffic_decay and journey_distance_feet and journey_time and trip_speed != 0):
                traffic_decay_sum[facility_id] += traffic_decay
                journey_distance_feet_sum[facility_id] += journey_distance_feet
                journey_time_sum[facility_id] += journey_time
                trip_speed_sum[facility_id] += trip_speed
                facility_count[facility_id] += 1
        
        # Calculate the average by FacilityID
        average_traffic_decay = {facility_id: traffic_decay_sum[facility_id] / facility_count[facility_id] for facility_id in traffic_decay_sum}
        average_journey_distance_feet = {facility_id: journey_distance_feet_sum[facility_id] / facility_count[facility_id] for facility_id in journey_distance_feet_sum}
        average_journey_time = {facility_id: journey_time_sum[facility_id] / facility_count[facility_id] for facility_id in journey_time_sum}
        average_trip_speed = {facility_id: trip_speed_sum[facility_id] / facility_count[facility_id] for facility_id in trip_speed_sum}

        # Return the updated route feature set
        for s in site_fset.features:
            # objectid corresponds to FacilityID
            facility_id = s.attributes.get('objectid')

            # Assign the Accessibility Score if there's a match in the average_traffic_decay dictionary
            if facility_id in average_traffic_decay:
                s.attributes['accessibility_score'] = average_traffic_decay[facility_id]
                s.attributes['avg_journey_distance'] = average_journey_distance_feet[facility_id]
                s.attributes['avg_journey_time'] = average_journey_time[facility_id]
                s.attributes['avg_trip_speed'] = average_trip_speed[facility_id]
            else:
                # Assign 0 if no matching FacilityID
                s.attributes['accessibility_score'] = 0  
                s.attributes['avg_journey_distance'] = 0
                s.attributes['avg_journey_time'] = 0
                s.attributes['avg_trip_speed'] = 0

        return site_fset
        
    except Exception as ex: 
        print(f"Error during calculating scores in site feautre set - {ex}")

def update_site_access(site_fset, intersect_fset):
    try:
        # Prepare the list of buffer geometries
        intersect_geometries = [Geometry(i.geometry) for i in intersect_fset.features]
        
        # Iterate over each feature in the site_fset
        for s in site_fset.features:
            # Get the geometry of the site
            s_geom = Geometry(s.geometry)  
            
            # Check if the site falls within any buffer
            inside_buffer = False
            for i_geom in intersect_geometries:
                if i_geom.contains(s_geom):inside_buffer = True
                break
            
            # Update the 'access' field based on whether the site is in the buffer
            if inside_buffer:
                s.attributes['access'] = 'Corner Access'
            else:
                s.attributes['access'] = 'Mid-block Access'
        
        return site_fset
    
    except Exception as ex:
        print(f"Error during update site access - {ex}")

def categorize_road_class(hierarchy):
    # the values of hierarchy field in the Esri Street layer
    if hierarchy in [1, 2, 3]:
        return 'Primary Road'
    elif hierarchy == 4:
        return 'Secondary Road'
    elif hierarchy == 5:
        return 'Tertiary Road'
    else:
        return 'Unknown'

def get_two_closest_streets(site_geom, street_fset):
    distances = []
    
    for s in street_fset.features:
        s_geom = Geometry(s.geometry)
        distance = site_geom.distance_to(s_geom)
        distances.append((distance, s))
    
    # Sort by distance and return the two closest streets
    distances.sort(key=lambda x: x[0])
    
    return [distances[0][1], distances[1][1]]

def update_speed_limits(st_fset):
    
    for f in st_fset.features:
        
        # Get the current values of the speed limit fields
        from_speed_limit = f.attributes.get('from_ref_speed_limit')
        to_speed_limit = f.attributes.get('to_ref_speed_limit')
        
        # If FROM_REF_SPEED_LIMIT is None, set it to 0
        if from_speed_limit is None:
           f.attributes['from_ref_speed_limit'] = 0
        # If TO_REF_SPEED_LIMIT is None, set it to 0
        if to_speed_limit is None:
           f.attributes['to_ref_speed_limit'] = 0
        
    return st_fset

def update_road_type_speed_limit_field(site_fset, street_fset):
    try:
        for site_feature in site_fset.features:
            site_geom = Geometry(site_feature.geometry)  # Get site geometry
            
            # Find the two closest street features
            closest_streets = get_two_closest_streets(site_geom, street_fset)
            # Get the 'FuncClass' values from the two closest streets
            func_class_1 = closest_streets[0].attributes['hierarchy']
            func_class_2 = closest_streets[1].attributes['hierarchy']
            # Get the 'FuncClass' values from the two closest streets
            speed_limit_1 = closest_streets[0].attributes['from_ref_speed_limit']
            speed_limit_2 = closest_streets[0].attributes['to_ref_speed_limit']

            # If both streets have the same 'FuncClass', categorize based on that
            if func_class_1 == func_class_2:
                road_type = categorize_road_class(func_class_1)
            else:
                # If they have different 'FuncClass', pick the higher value
                higher_func_class = max(func_class_1, func_class_2)
                road_type = categorize_road_class(higher_func_class)

            # pick the higher value in 'speed limit'
            higher_speed_limit = max(speed_limit_1, speed_limit_2)

            # Update the 'road_type' and 'road_speed_limit' field in the site feature
            site_feature.attributes['road_type'] = road_type
            site_feature.attributes['road_speed_limit'] = higher_speed_limit
        
        return site_fset

    except Exception as ex: 
        print(f"Error during update road type field - {ex}")

def update_fields_in_layer(site_fset, layer):
    try:
        # Create a lookup dictionary by OBJECTID from the site feature set
        distance_lookup = {site.attributes['objectid']: site.attributes['avg_journey_distance'] for site in site_fset.features}
        time_lookup = {site.attributes['objectid']: site.attributes['avg_journey_time'] for site in site_fset.features}
        speed_lookup = {site.attributes['objectid']: site.attributes['avg_trip_speed'] for site in site_fset.features}
        accessibility_lookup = {site.attributes['objectid']: site.attributes['accessibility_score'] for site in site_fset.features}
        access_lookup = {site.attributes['objectid']: site.attributes['access'] for site in site_fset.features}
        road_lookup = {site.attributes['objectid']: site.attributes['road_type'] for site in site_fset.features}
        limit_lookup = {site.attributes['objectid']: site.attributes['road_speed_limit'] for site in site_fset.features}

        # Prepare a list to hold the features that need to be updated
        updates = []

        # Query all features in the layer (you can optimize by querying only relevant fields)
        layer_features = layer.query().features
        # Iterate through the features in the layer
        for f in layer_features:
            objectid = f.attributes.get('objectid')  # Get the OBJECTID

            # Check if there's a matching OBJECTID in the site feature set
            if objectid in distance_lookup:
                new_distance = distance_lookup[objectid]
                new_time = time_lookup[objectid]
                new_speed = speed_lookup[objectid]
                new_accessibility = accessibility_lookup[objectid]
                new_access = access_lookup[objectid]
                new_road = road_lookup[objectid]
                new_limit = limit_lookup[objectid]

                # Update the Accessibility_Score field in the feature
                f.attributes['avg_journey_distance'] = new_distance
                f.attributes['avg_journey_time'] = new_time
                f.attributes['avg_trip_speed'] = new_speed
                f.attributes['accessibility_score'] = new_accessibility
                f.attributes['access'] = new_access
                f.attributes['road_type'] = new_road
                f.attributes['road_speed_limit'] = new_limit
                
                 # Remove the 'guid' field from the feature to avoid the DBMS error
                if 'guid' in f.attributes:
                    del f.attributes['guid']

                # Add the feature to the list of updates
                updates.append(f)
                
        
        # Commit the updates to the layer (only existing features are updated)
        if updates:
            result = layer.edit_features(updates=updates)
            return result
        else:
            return "No updates needed"
        
    except Exception as ex:
        print(f"Error during update fields: {ex}")

if __name__ == '__main__':
    main()
